{
  "nbformat": 4,
  "nbformat_minor": 0,
  "metadata": {
    "colab": {
      "name": "base_attention（副本）",
      "provenance": [],
      "collapsed_sections": [],
      "authorship_tag": "ABX9TyN3kY9K1KhcspQtJ1AWWybC",
      "include_colab_link": true
    },
    "kernelspec": {
      "name": "python3",
      "display_name": "Python 3"
    },
    "language_info": {
      "name": "python"
    },
    "accelerator": "GPU"
  },
  "cells": [
    {
      "cell_type": "markdown",
      "metadata": {
        "id": "view-in-github",
        "colab_type": "text"
      },
      "source": [
        "<a href=\"https://colab.research.google.com/github/lllljjjjllllqqqq/123/blob/main/base_attention%EF%BC%88%E5%89%AF%E6%9C%AC%EF%BC%89.ipynb\" target=\"_parent\"><img src=\"https://colab.research.google.com/assets/colab-badge.svg\" alt=\"Open In Colab\"/></a>"
      ]
    },
    {
      "cell_type": "code",
      "metadata": {
        "colab": {
          "base_uri": "https://localhost:8080/"
        },
        "id": "h4lqWRcfzJqv",
        "outputId": "efe05ffb-513b-4821-b917-c23d48864bdd"
      },
      "source": [
        "!nvidia-smi"
      ],
      "execution_count": null,
      "outputs": [
        {
          "output_type": "stream",
          "text": [
            "Tue May 18 07:25:34 2021       \n",
            "+-----------------------------------------------------------------------------+\n",
            "| NVIDIA-SMI 465.19.01    Driver Version: 460.32.03    CUDA Version: 11.2     |\n",
            "|-------------------------------+----------------------+----------------------+\n",
            "| GPU  Name        Persistence-M| Bus-Id        Disp.A | Volatile Uncorr. ECC |\n",
            "| Fan  Temp  Perf  Pwr:Usage/Cap|         Memory-Usage | GPU-Util  Compute M. |\n",
            "|                               |                      |               MIG M. |\n",
            "|===============================+======================+======================|\n",
            "|   0  Tesla P4            Off  | 00000000:00:04.0 Off |                    0 |\n",
            "| N/A   55C    P8     8W /  75W |      0MiB /  7611MiB |      0%      Default |\n",
            "|                               |                      |                  N/A |\n",
            "+-------------------------------+----------------------+----------------------+\n",
            "                                                                               \n",
            "+-----------------------------------------------------------------------------+\n",
            "| Processes:                                                                  |\n",
            "|  GPU   GI   CI        PID   Type   Process name                  GPU Memory |\n",
            "|        ID   ID                                                   Usage      |\n",
            "|=============================================================================|\n",
            "|  No running processes found                                                 |\n",
            "+-----------------------------------------------------------------------------+\n"
          ],
          "name": "stdout"
        }
      ]
    },
    {
      "cell_type": "code",
      "metadata": {
        "id": "moqp5pXORQCk",
        "colab": {
          "base_uri": "https://localhost:8080/"
        },
        "outputId": "7a78e3ff-35a0-4751-a5e7-84527a9b490d"
      },
      "source": [
        "from google.colab import drive\n",
        "\n",
        "drive.mount('/content/drive')"
      ],
      "execution_count": null,
      "outputs": [
        {
          "output_type": "stream",
          "text": [
            "Drive already mounted at /content/drive; to attempt to forcibly remount, call drive.mount(\"/content/drive\", force_remount=True).\n"
          ],
          "name": "stdout"
        }
      ]
    },
    {
      "cell_type": "code",
      "metadata": {
        "colab": {
          "base_uri": "https://localhost:8080/"
        },
        "id": "AJrd3KoJSrwe",
        "outputId": "75ad5441-393b-41b5-96ab-f2e85658d290"
      },
      "source": [
        "cd drive/MyDrive/毕设/情感分类"
      ],
      "execution_count": null,
      "outputs": [
        {
          "output_type": "stream",
          "text": [
            "/content/drive/MyDrive/毕设/情感分类\n"
          ],
          "name": "stdout"
        }
      ]
    },
    {
      "cell_type": "code",
      "metadata": {
        "id": "hZRIJ9q5SFND"
      },
      "source": [
        " \n",
        "from keras.preprocessing import sequence\n",
        "from matplotlib import pyplot as plt\n",
        "import pandas as pd\n",
        "import numpy as np\n",
        "import tensorflow as tf\n",
        "from keras import backend as K\n",
        "from keras.engine.topology import Layer\n",
        "import jieba\n",
        "from sklearn.model_selection import train_test_split \n",
        "import json"
      ],
      "execution_count": null,
      "outputs": []
    },
    {
      "cell_type": "code",
      "metadata": {
        "id": "Syei1P0TcJ-n"
      },
      "source": [
        "max_len=100"
      ],
      "execution_count": null,
      "outputs": []
    },
    {
      "cell_type": "code",
      "metadata": {
        "id": "KEy3axk9RTy3"
      },
      "source": [
        "# with open('情感分类测试集/ChnSentiCorp/dev.txt','r',encoding='utf-8') as f:\n",
        "#   lines=f.readlines()\n",
        "#   labels=[]\n",
        "#   sentences=[]\n",
        "#   for line in lines:\n",
        "#     [y,x]=line.strip('\\n').strip().split('\\t')\n",
        "#     if len(x)>5:\n",
        "#       labels.append(y)\n",
        "#       sentences.append(x)\n",
        "# x=[]\n",
        "# for line in sentences[1:]:\n",
        "#   h=jieba.lcut(line,cut_all=False,HMM=True) # 精确模式\n",
        "#   x.append(h)\n",
        "def build_map(lists):\n",
        "    maps = {}\n",
        "    for line in lists:\n",
        "        for word in line:\n",
        "            if word not in maps:\n",
        "                maps[word] = len(maps)+2   #0:mask 1:未知\n",
        "    return maps\n",
        "import json\n",
        "def write_dict(dic,output_name):\n",
        "  jsObj = json.dumps(dic)  \n",
        "  fileObject = open(output_name+'.json', 'w')  \n",
        "  fileObject.write(jsObj)  \n",
        "  fileObject.close()  \n",
        "# vocab=build_map(x)\n",
        "# write_dict(vocab,'vocab')\n",
        "\n",
        "# with open('vocab.json','r',encoding='utf8')as fp:\n",
        "#     vocab = json.load(fp)\n",
        "# p=word2id(x,vocab)\n",
        "# vocab=build_map(x)\n",
        "# len(vocab)"
      ],
      "execution_count": null,
      "outputs": []
    },
    {
      "cell_type": "code",
      "metadata": {
        "id": "KxFONBBHRXww"
      },
      "source": [
        "def word2id(lists,vocab=None):\n",
        "  ls=[]\n",
        "  for line in lists:\n",
        "    l=[]\n",
        "    for word in line:\n",
        "      if word in vocab:\n",
        "        l.append(vocab[word])\n",
        "      else:\n",
        "        l.append(1)\n",
        "    ls.append(l)\n",
        "  return ls\n"
      ],
      "execution_count": null,
      "outputs": []
    },
    {
      "cell_type": "code",
      "metadata": {
        "id": "D4FSi9FCZeLZ"
      },
      "source": [
        "def load_data(file_name):\n",
        "  with open(file_name,'r',encoding='utf-8') as f:\n",
        "    lines=f.readlines()\n",
        "    labels=[]\n",
        "    sentences=[]\n",
        "    for line in lines:\n",
        "      [y,x]=line.strip('\\n').strip().split('\\t')\n",
        "      if len(x)>5:\n",
        "        labels.append(y)\n",
        "        sentences.append(x)\n",
        "  x=[]\n",
        "  for line in sentences[1:]:\n",
        "    h=jieba.lcut(line,cut_all=False,HMM=True) # 精确模式\n",
        "    x.append(h)\n",
        "  # x.append(['邓紫棋','拍','出来','的','效果','没有','汤唯','郭采洁','拍','出来','的','有','质感','。'])\n",
        "  # labels.append('0')\n",
        "  # vocab=build_map(x)\n",
        "  # write_dict(vocab,'vocab2')\n",
        "  with open('vocab2.json','r',encoding='utf8')as fp:\n",
        "    vocab = json.load(fp)\n",
        "  p=word2id(x,vocab)\n",
        "  y=[int(i) for i in labels[1:]]\n",
        "  p=np.array(p)\n",
        "  y=np.array(y)\n",
        "  p=sequence.pad_sequences(p,maxlen=max_len,value=0,padding='post')\n",
        "  return (p,y)"
      ],
      "execution_count": null,
      "outputs": []
    },
    {
      "cell_type": "code",
      "metadata": {
        "colab": {
          "base_uri": "https://localhost:8080/"
        },
        "id": "RZ84KD33cyWU",
        "outputId": "2b494fc6-aa7b-43d4-c5b5-6751245a098e"
      },
      "source": [
        "(x_train,y_train)=load_data('情感分类测试集/ChnSentiCorp/train.tsv')"
      ],
      "execution_count": null,
      "outputs": [
        {
          "output_type": "stream",
          "text": [
            "Building prefix dict from the default dictionary ...\n",
            "Loading model from cache /tmp/jieba.cache\n",
            "Loading model cost 0.692 seconds.\n",
            "Prefix dict has been built successfully.\n",
            "/usr/local/lib/python3.7/dist-packages/ipykernel_launcher.py:23: VisibleDeprecationWarning: Creating an ndarray from ragged nested sequences (which is a list-or-tuple of lists-or-tuples-or ndarrays with different lengths or shapes) is deprecated. If you meant to do this, you must specify 'dtype=object' when creating the ndarray\n"
          ],
          "name": "stderr"
        }
      ]
    },
    {
      "cell_type": "code",
      "metadata": {
        "colab": {
          "base_uri": "https://localhost:8080/"
        },
        "id": "7hqkg6PlLGnJ",
        "outputId": "9d52d3b4-52bd-4530-ad41-c9fb04de5384"
      },
      "source": [
        "y_train.sum()"
      ],
      "execution_count": null,
      "outputs": [
        {
          "output_type": "execute_result",
          "data": {
            "text/plain": [
              "4797"
            ]
          },
          "metadata": {
            "tags": []
          },
          "execution_count": 10
        }
      ]
    },
    {
      "cell_type": "code",
      "metadata": {
        "id": "Mx-IPvLlRbNq",
        "colab": {
          "base_uri": "https://localhost:8080/"
        },
        "outputId": "77f03e68-204f-4bc2-f810-38f65544baa9"
      },
      "source": [
        "(x_test,y_test)=load_data('情感分类测试集/ChnSentiCorp/dev.txt')"
      ],
      "execution_count": null,
      "outputs": [
        {
          "output_type": "stream",
          "text": [
            "/usr/local/lib/python3.7/dist-packages/ipykernel_launcher.py:23: VisibleDeprecationWarning: Creating an ndarray from ragged nested sequences (which is a list-or-tuple of lists-or-tuples-or ndarrays with different lengths or shapes) is deprecated. If you meant to do this, you must specify 'dtype=object' when creating the ndarray\n"
          ],
          "name": "stderr"
        }
      ]
    },
    {
      "cell_type": "code",
      "metadata": {
        "id": "HkJBuS8LRdVZ"
      },
      "source": [
        "with open('vocab2.json','r',encoding='utf8')as fp:\n",
        "  vocab = json.load(fp)\n",
        "max_features=len(vocab)+2"
      ],
      "execution_count": null,
      "outputs": []
    },
    {
      "cell_type": "code",
      "metadata": {
        "colab": {
          "base_uri": "https://localhost:8080/"
        },
        "id": "LsJVpb5RTk-t",
        "outputId": "f18b50b4-1143-4500-ec04-9b2731cce114"
      },
      "source": [
        "max_features"
      ],
      "execution_count": null,
      "outputs": [
        {
          "output_type": "execute_result",
          "data": {
            "text/plain": [
              "35098"
            ]
          },
          "metadata": {
            "tags": []
          },
          "execution_count": 13
        }
      ]
    },
    {
      "cell_type": "code",
      "metadata": {
        "id": "QURP-STP4fwE"
      },
      "source": [
        " \n",
        "# from keras.preprocessing import sequence\n",
        "# from matplotlib import pyplot as plt\n",
        "# import pandas as pd\n",
        "# import numpy as np\n",
        "# import tensorflow as tf\n",
        "# from keras import backend as K\n",
        "# from keras.engine.topology import Layer\n",
        "class Self_Attention(Layer):\n",
        " \n",
        "    def __init__(self, output_dim, **kwargs):\n",
        "        self.output_dim = output_dim\n",
        "        super(Self_Attention, self).__init__(**kwargs)\n",
        " \n",
        "    def build(self, input_shape):\n",
        "        # 为该层创建一个可训练的权重\n",
        "        #inputs.shape = (batch_size, time_steps, seq_len)\n",
        "        self.kernel = self.add_weight(name='kernel',\n",
        "                                      shape=(3,input_shape[2], self.output_dim),\n",
        "                                      initializer='uniform',\n",
        "                                      trainable=True)\n",
        " \n",
        "        super(Self_Attention, self).build(input_shape)  # 一定要在最后调用它\n",
        " \n",
        "    def call(self, x):\n",
        "        mask = padding_mask(x)\n",
        "        #mask2 = padding_mask(x)\n",
        "\n",
        "        WQ = K.dot(x, self.kernel[0])\n",
        "        WK = K.dot(x, self.kernel[1])\n",
        "        WV = K.dot(x, self.kernel[2])\n",
        "        WQ = WQ + (1 - mask) * -1e9\n",
        "        #print(\"WQ.shape\",WQ.shape)\n",
        "        #print('mask.shape',mask.shape)\n",
        "        #print(\"K.permute_dimensions(WK, [0, 2, 1]).shape\",K.permute_dimensions(WK, [0, 2, 1]).shape)\n",
        "        #mask = K.batch_dot(mask,K.permute_dimensions(mask, [0, 2, 1]))\n",
        "        QK = K.batch_dot(WQ,K.permute_dimensions(WK, [0, 2, 1]))\n",
        "        #print('mask.shape',mask.shape)\n",
        "        QK = QK / (self.output_dim**0.5)\n",
        " \n",
        "        QK = K.softmax(QK)#+ (1 - mask) * -1e9)\n",
        " #+ (1 - mask) * -1e9\n",
        "       # print(\"QK.shape\",QK.shape)\n",
        " \n",
        "        V = K.batch_dot(QK,WV)\n",
        " \n",
        "        return V\n",
        " \n",
        "    def compute_output_shape(self, input_shape):\n",
        " \n",
        "        return (input_shape[0],input_shape[1],self.output_dim)\n",
        "\n",
        "def positional_embedding(maxlen, model_size):\n",
        "    PE = np.zeros((maxlen, model_size))\n",
        "    for i in range(maxlen):\n",
        "        for j in range(model_size):\n",
        "            if j % 2 == 0:\n",
        "                PE[i, j] = np.sin(i / 10000 ** (j / model_size))\n",
        "            else:\n",
        "                PE[i, j] = np.cos(i / 10000 ** ((j-1) / model_size))\n",
        "    PE = tf.constant(PE, dtype=tf.float32)\n",
        "    return PE\n",
        "\n",
        "def padding_mask(seq):\n",
        "    mask = tf.cast(tf.math.not_equal(seq, 0), dtype=tf.float32)\n",
        "    mask = mask[:,:]\n",
        "    return mask\n"
      ],
      "execution_count": null,
      "outputs": []
    },
    {
      "cell_type": "code",
      "metadata": {
        "id": "xHIHf3F40VH3"
      },
      "source": [
        "batch_size = 64\n",
        "from keras.models import Model\n",
        "from keras.layers import *\n",
        "from keras.optimizers import RMSprop\n",
        "from keras.optimizers import SGD,Adam"
      ],
      "execution_count": null,
      "outputs": []
    },
    {
      "cell_type": "code",
      "metadata": {
        "id": "XOLe-lAo5Il8",
        "colab": {
          "base_uri": "https://localhost:8080/"
        },
        "outputId": "7b0941b7-0343-44f3-9d2b-6780c2e5bae7"
      },
      "source": [
        "S_inputs = Input(shape=(max_len,), dtype='int32')\n",
        " \n",
        "embeddings = Embedding(max_features, 256,mask_zero=True)(S_inputs)\n",
        "#pos_embedding = positional_embedding(max_len, 256)\n",
        "#pos_embedding = pos_embedding + (1 - embeddings) * -1e9\n",
        "emb=embeddings#+pos_embedding\n",
        " \n",
        "O_seq = Self_Attention(256)(emb)\n",
        "O_seq = Flatten()(O_seq)\n",
        " \n",
        "# O_seq = GlobalAveragePooling1D()(O_seq)\n",
        " \n",
        "#O_seq = Dropout(0.3)(O_seq)\n",
        " \n",
        "outputs = Dense(1,activation='sigmoid')(O_seq)\n",
        " \n",
        " \n",
        "model = Model(inputs=S_inputs, outputs=outputs)\n",
        " \n",
        "print(model.summary())\n",
        "# try using different optimizers and different optimizer configs\n",
        "#opt = Adam(lr=0.0002,decay=0.00001)\n",
        "#loss = 'categorical_crossentropy'\n",
        "loss='binary_crossentropy',\n",
        "model.compile(loss=loss,\n",
        "             #optimizer=opt,\n",
        "              optimizer=Adam(lr=0.0005,decay=0.00001),\n",
        "              #RMSprop(lr=1e-3),\n",
        "             metrics=['acc'])\n",
        "#%%\n",
        "print('Train...')\n",
        " \n",
        "h = model.fit(x_train, y_train,\n",
        " \n",
        "         batch_size=batch_size,\n",
        " \n",
        "         epochs=5,\n",
        " \n",
        "         validation_data=(x_test, y_test))\n",
        " \n",
        "# plt.plot(h.history[\"loss\"],label=\"train_loss\")\n",
        "# plt.plot(h.history[\"val_loss\"],label=\"val_loss\")\n",
        "# plt.plot(h.history[\"acc\"],label=\"train_acc\")\n",
        "# plt.plot(h.history[\"val_acc\"],label=\"val_acc\")\n",
        "# plt.legend()\n",
        "# plt.show()\n",
        "\n"
      ],
      "execution_count": null,
      "outputs": [
        {
          "output_type": "stream",
          "text": [
            "Model: \"model\"\n",
            "_________________________________________________________________\n",
            "Layer (type)                 Output Shape              Param #   \n",
            "=================================================================\n",
            "input_1 (InputLayer)         [(None, 100)]             0         \n",
            "_________________________________________________________________\n",
            "embedding (Embedding)        (None, 100, 256)          8985088   \n",
            "_________________________________________________________________\n",
            "self__attention (Self_Attent (None, 100, 256)          196608    \n",
            "_________________________________________________________________\n",
            "flatten (Flatten)            (None, 25600)             0         \n",
            "_________________________________________________________________\n",
            "dense (Dense)                (None, 1)                 25601     \n",
            "=================================================================\n",
            "Total params: 9,207,297\n",
            "Trainable params: 9,207,297\n",
            "Non-trainable params: 0\n",
            "_________________________________________________________________\n",
            "None\n",
            "Train...\n",
            "Epoch 1/5\n",
            "150/150 [==============================] - 16s 99ms/step - loss: 0.5930 - acc: 0.6691 - val_loss: 0.3084 - val_acc: 0.8800\n",
            "Epoch 2/5\n",
            "150/150 [==============================] - 14s 94ms/step - loss: 0.1786 - acc: 0.9361 - val_loss: 0.2809 - val_acc: 0.8892\n",
            "Epoch 3/5\n",
            "150/150 [==============================] - 14s 95ms/step - loss: 0.0788 - acc: 0.9791 - val_loss: 0.3238 - val_acc: 0.8900\n",
            "Epoch 4/5\n",
            "150/150 [==============================] - 14s 95ms/step - loss: 0.0375 - acc: 0.9890 - val_loss: 0.3676 - val_acc: 0.8967\n",
            "Epoch 5/5\n",
            "150/150 [==============================] - 14s 95ms/step - loss: 0.0238 - acc: 0.9946 - val_loss: 0.4476 - val_acc: 0.8850\n"
          ],
          "name": "stdout"
        }
      ]
    },
    {
      "cell_type": "code",
      "metadata": {
        "id": "lmL2-akER28e"
      },
      "source": [
        "# from keras.utils import plot_model\n",
        "# plot_model(model, 'model.png', show_shapes=True)\n"
      ],
      "execution_count": null,
      "outputs": []
    },
    {
      "cell_type": "code",
      "metadata": {
        "id": "eLnqr09nPqXU"
      },
      "source": [
        "h=jieba.lcut('邓紫棋拍出来的效果没有汤唯郭采洁拍出来的有质感。',cut_all=False,HMM=True) # 精确模式\n",
        "h=[['邓紫棋','拍','出来','的','效果','没有','汤唯','郭采洁','拍','出来','的','有','质感','。']]\n",
        "# -0.4809237 -0.782549 0.49979883 -0.040339828 0.6633401 -0.52321875 -0.53521717 -0.42850167 -0.80775726 0.45727575 -0.041058272 0.13017127 0.8416828 0.032216348\n",
        "# 邓紫棋    拍      出来    的     效果    没有    汤唯    郭采洁      拍      出来    的     有    质感   。\n",
        "-0.03182719 -0.31185108 0.36503768 0.07232723  0.5126569  -0.4544415 0.055527195 0.0261359  -0.3133937  0.35460818  0.07373014 0.18920526 0.8381199 0.045788333\n",
        "with open('vocab2.json','r',encoding='utf8')as fp:\n",
        "  vocab = json.load(fp)\n",
        "p2=word2id(h,vocab)\n",
        "p2=sequence.pad_sequences(p2,maxlen=max_len,value=0,padding='post')"
      ],
      "execution_count": null,
      "outputs": []
    },
    {
      "cell_type": "code",
      "metadata": {
        "colab": {
          "base_uri": "https://localhost:8080/"
        },
        "id": "2Jo9iLUKOcr0",
        "outputId": "8f692c90-353f-4677-ef18-98d1c33bd33e"
      },
      "source": [
        "p2"
      ],
      "execution_count": null,
      "outputs": [
        {
          "output_type": "execute_result",
          "data": {
            "text/plain": [
              "array([[35095,  2442,   197,     5,  1085,    80, 35096, 35097,  2442,\n",
              "          197,     5,    10,  3728,    24,     0,     0,     0,     0,\n",
              "            0,     0,     0,     0,     0,     0,     0,     0,     0,\n",
              "            0,     0,     0,     0,     0,     0,     0,     0,     0,\n",
              "            0,     0,     0,     0,     0,     0,     0,     0,     0,\n",
              "            0,     0,     0,     0,     0,     0,     0,     0,     0,\n",
              "            0,     0,     0,     0,     0,     0,     0,     0,     0,\n",
              "            0,     0,     0,     0,     0,     0,     0,     0,     0,\n",
              "            0,     0,     0,     0,     0,     0,     0,     0,     0,\n",
              "            0,     0,     0,     0,     0,     0,     0,     0,     0,\n",
              "            0,     0,     0,     0,     0,     0,     0,     0,     0,\n",
              "            0]], dtype=int32)"
            ]
          },
          "metadata": {
            "tags": []
          },
          "execution_count": 19
        }
      ]
    },
    {
      "cell_type": "code",
      "metadata": {
        "colab": {
          "base_uri": "https://localhost:8080/"
        },
        "id": "x6fHlTuPPxOB",
        "outputId": "c7c31471-ecf1-409a-b0d5-afa8e660faa8"
      },
      "source": [
        "from keras.models import Model\n",
        "#生成函数模型\n",
        "intermediate_layer_model = Model(inputs=model.input,outputs=model.get_layer('flatten').output)\n",
        "#导出中间结果\n",
        "conv1d_1=intermediate_layer_model.predict(p2[0])\n"
      ],
      "execution_count": null,
      "outputs": [
        {
          "output_type": "stream",
          "text": [
            "WARNING:tensorflow:Model was constructed with shape (None, 100) for input KerasTensor(type_spec=TensorSpec(shape=(None, 100), dtype=tf.int32, name='input_1'), name='input_1', description=\"created by layer 'input_1'\"), but it was called on an input with incompatible shape (None, 1).\n"
          ],
          "name": "stdout"
        }
      ]
    },
    {
      "cell_type": "code",
      "metadata": {
        "colab": {
          "base_uri": "https://localhost:8080/"
        },
        "id": "009WkvElQKqP",
        "outputId": "bf415997-8e60-4e86-c804-a20398497590"
      },
      "source": [
        "conv1d_1.reshape(-1).shape"
      ],
      "execution_count": null,
      "outputs": [
        {
          "output_type": "execute_result",
          "data": {
            "text/plain": [
              "(25600,)"
            ]
          },
          "metadata": {
            "tags": []
          },
          "execution_count": 21
        }
      ]
    },
    {
      "cell_type": "code",
      "metadata": {
        "id": "F3HGAOXYmTsn"
      },
      "source": [
        "weight_Dense_1,bias_Dense_1 = model.get_layer('dense').get_weights()"
      ],
      "execution_count": null,
      "outputs": []
    },
    {
      "cell_type": "code",
      "metadata": {
        "colab": {
          "base_uri": "https://localhost:8080/"
        },
        "id": "cy1x1iN2osgd",
        "outputId": "a9e65ab8-0d23-484d-e262-1c2607dca354"
      },
      "source": [
        "weight_Dense_1.reshape(-1)"
      ],
      "execution_count": null,
      "outputs": [
        {
          "output_type": "execute_result",
          "data": {
            "text/plain": [
              "array([-0.02437959, -0.03047802,  0.01998975, ..., -0.03030578,\n",
              "       -0.03752842, -0.00775602], dtype=float32)"
            ]
          },
          "metadata": {
            "tags": []
          },
          "execution_count": 23
        }
      ]
    },
    {
      "cell_type": "code",
      "metadata": {
        "id": "wy8XY9P3pCl8"
      },
      "source": [
        "w=conv1d_1.reshape(-1) * weight_Dense_1.reshape(-1)+bias_Dense_1/len(conv1d_1.reshape(-1))"
      ],
      "execution_count": null,
      "outputs": []
    },
    {
      "cell_type": "code",
      "metadata": {
        "colab": {
          "base_uri": "https://localhost:8080/"
        },
        "id": "wxH1Q8-VIs_b",
        "outputId": "e4d33786-e3c8-4fa1-f35a-3f5552eaed94"
      },
      "source": [
        "bias_Dense_1"
      ],
      "execution_count": null,
      "outputs": [
        {
          "output_type": "execute_result",
          "data": {
            "text/plain": [
              "array([0.00474976], dtype=float32)"
            ]
          },
          "metadata": {
            "tags": []
          },
          "execution_count": 25
        }
      ]
    },
    {
      "cell_type": "code",
      "metadata": {
        "colab": {
          "base_uri": "https://localhost:8080/"
        },
        "id": "rHwbDdnUpKZ5",
        "outputId": "1cfd9e75-1559-434b-ea6a-5e154a1bb898"
      },
      "source": [
        "y_test[2]"
      ],
      "execution_count": null,
      "outputs": [
        {
          "output_type": "execute_result",
          "data": {
            "text/plain": [
              "0"
            ]
          },
          "metadata": {
            "tags": []
          },
          "execution_count": 26
        }
      ]
    },
    {
      "cell_type": "code",
      "metadata": {
        "colab": {
          "base_uri": "https://localhost:8080/"
        },
        "id": "C9JH4pZTKlQX",
        "outputId": "73f32cb3-1d46-4e6f-af85-5c44e306a96e"
      },
      "source": [
        "w.sum()"
      ],
      "execution_count": null,
      "outputs": [
        {
          "output_type": "execute_result",
          "data": {
            "text/plain": [
              "2.3909829"
            ]
          },
          "metadata": {
            "tags": []
          },
          "execution_count": 27
        }
      ]
    },
    {
      "cell_type": "code",
      "metadata": {
        "colab": {
          "base_uri": "https://localhost:8080/"
        },
        "id": "sQqemj78pz8E",
        "outputId": "ca4742d3-2dda-4bdf-a1eb-46db5332d8f0"
      },
      "source": [
        "for i in range(0,100):\n",
        "  print(w[i*256:i*256+257].sum())"
      ],
      "execution_count": null,
      "outputs": [
        {
          "output_type": "stream",
          "text": [
            "-0.03182719\n",
            "-0.31185108\n",
            "0.36503768\n",
            "0.07232723\n",
            "0.5126569\n",
            "-0.4544415\n",
            "0.055527195\n",
            "0.0261359\n",
            "-0.3133937\n",
            "0.35460818\n",
            "0.07373014\n",
            "0.18920526\n",
            "0.8381199\n",
            "0.045788333\n",
            "0.008700754\n",
            "0.008661101\n",
            "0.005637884\n",
            "0.008042234\n",
            "0.008851418\n",
            "0.0076372353\n",
            "0.008167677\n",
            "0.007977117\n",
            "0.007423453\n",
            "0.007997379\n",
            "0.009137785\n",
            "0.008123668\n",
            "0.007670063\n",
            "0.0074045244\n",
            "0.008623829\n",
            "0.010667156\n",
            "0.008370696\n",
            "0.009362826\n",
            "0.011317097\n",
            "0.010373455\n",
            "0.007916627\n",
            "0.009030974\n",
            "0.009870576\n",
            "0.007675258\n",
            "0.009844211\n",
            "0.010117047\n",
            "0.009309542\n",
            "0.011335649\n",
            "0.01130927\n",
            "0.009279933\n",
            "0.010920279\n",
            "0.009648271\n",
            "0.010051237\n",
            "0.009596217\n",
            "0.010706458\n",
            "0.010289893\n",
            "0.010153452\n",
            "0.011151196\n",
            "0.008858692\n",
            "0.010625934\n",
            "0.0107132355\n",
            "0.012635457\n",
            "0.010289278\n",
            "0.011834966\n",
            "0.011426076\n",
            "0.011965586\n",
            "0.011161752\n",
            "0.012899565\n",
            "0.013055753\n",
            "0.011821324\n",
            "0.011702843\n",
            "0.012093326\n",
            "0.011739769\n",
            "0.013003042\n",
            "0.011695923\n",
            "0.013311852\n",
            "0.012277925\n",
            "0.013232734\n",
            "0.012938099\n",
            "0.0133591555\n",
            "0.014805467\n",
            "0.0144646475\n",
            "0.015348898\n",
            "0.014969039\n",
            "0.014006568\n",
            "0.015526514\n",
            "0.0145348245\n",
            "0.0148444865\n",
            "0.014779536\n",
            "0.01440784\n",
            "0.014027579\n",
            "0.0150962155\n",
            "0.013882404\n",
            "0.014611493\n",
            "0.014891677\n",
            "0.014981754\n",
            "0.014890723\n",
            "0.0142215965\n",
            "0.0134813525\n",
            "0.014230829\n",
            "0.015461861\n",
            "0.012198696\n",
            "0.013348456\n",
            "0.013560268\n",
            "0.012559541\n",
            "0.01423799\n"
          ],
          "name": "stdout"
        }
      ]
    },
    {
      "cell_type": "code",
      "metadata": {
        "id": "q4HcmH1VNKTR"
      },
      "source": [
        ""
      ],
      "execution_count": null,
      "outputs": []
    },
    {
      "cell_type": "markdown",
      "metadata": {
        "id": "hieZFVUkWIyr"
      },
      "source": [
        "\n",
        "\n",
        "```\n",
        "# 此内容为代码格式\n",
        "WQ.shape (None, 64, 128)\n",
        "K.permute_dimensions(WK, [0, 2, 1]).shape (None, 128, 64)\n",
        "QK.shape (None, 64, 64)\n",
        "Model: \"model\"\n",
        "_________________________________________________________________\n",
        "Layer (type)                 Output Shape              Param #   \n",
        "=================================================================\n",
        "input_1 (InputLayer)         [(None, 64)]              0         \n",
        "_________________________________________________________________\n",
        "embedding (Embedding)        (None, 64, 128)           2560000   \n",
        "_________________________________________________________________\n",
        "self__attention (Self_Attent (None, 64, 128)           49152     \n",
        "_________________________________________________________________\n",
        "global_average_pooling1d (Gl (None, 128)               0         \n",
        "_________________________________________________________________\n",
        "dropout (Dropout)            (None, 128)               0         \n",
        "_________________________________________________________________\n",
        "dense (Dense)                (None, 2)                 258       \n",
        "=================================================================\n",
        "Total params: 2,609,410\n",
        "Trainable params: 2,609,410\n",
        "Non-trainable params: 0\n",
        "_________________________________________________________________\n",
        "None\n",
        "Train...\n",
        "Epoch 1/10\n",
        "WQ.shape (None, 64, 128)\n",
        "K.permute_dimensions(WK, [0, 2, 1]).shape (None, 128, 64)\n",
        "QK.shape (None, 64, 64)\n",
        "WQ.shape (None, 64, 128)\n",
        "K.permute_dimensions(WK, [0, 2, 1]).shape (None, 128, 64)\n",
        "QK.shape (None, 64, 64)\n",
        "782/782 [==============================] - ETA: 0s - loss: 0.6235 - accuracy: 0.6616WQ.shape (None, 64, 128)\n",
        "K.permute_dimensions(WK, [0, 2, 1]).shape (None, 128, 64)\n",
        "QK.shape (None, 64, 64)\n",
        "782/782 [==============================] - 25s 28ms/step - loss: 0.6233 - accuracy: 0.6617 - val_loss: 0.3807 - val_accuracy: 0.8283\n",
        "Epoch 2/10\n",
        "782/782 [==============================] - 21s 27ms/step - loss: 0.3232 - accuracy: 0.8624 - val_loss: 0.3677 - val_accuracy: 0.8372\n",
        "Epoch 3/10\n",
        "782/782 [==============================] - 21s 27ms/step - loss: 0.2571 - accuracy: 0.8963 - val_loss: 0.3917 - val_accuracy: 0.8314\n",
        "Epoch 4/10\n",
        "782/782 [==============================] - 21s 27ms/step - loss: 0.2053 - accuracy: 0.9205 - val_loss: 0.4486 - val_accuracy: 0.8200\n",
        "Epoch 5/10\n",
        "782/782 [==============================] - 21s 27ms/step - loss: 0.1548 - accuracy: 0.9430 - val_loss: 0.5307 - val_accuracy: 0.8102\n",
        "Epoch 6/10\n",
        "782/782 [==============================] - 22s 28ms/step - loss: 0.1164 - accuracy: 0.9587 - val_loss: 0.6609 - val_accuracy: 0.8021\n",
        "Epoch 7/10\n",
        "782/782 [==============================] - 22s 28ms/step - loss: 0.0866 - accuracy: 0.9714 - val_loss: 0.8120 - val_accuracy: 0.7927\n",
        "Epoch 8/10\n",
        "782/782 [==============================] - 21s 27ms/step - loss: 0.0590 - accuracy: 0.9824 - val_loss: 1.0130 - val_accuracy: 0.7826\n",
        "Epoch 9/10\n",
        "782/782 [==============================] - 21s 27ms/step - loss: 0.0394 - accuracy: 0.9909 - val_loss: 1.2482 - val_accuracy: 0.7773\n",
        "Epoch 10/10\n",
        "782/782 [==============================] - 21s 26ms/step - loss: 0.0286 - accuracy: 0.9933 - val_loss: 1.5077 - val_accuracy: 0.7754\n",
        "```\n",
        "![image.png](data:image/png;base64,iVBORw0KGgoAAAANSUhEUgAAAXQAAAD4CAYAAAD8Zh1EAAAgAElEQVR4Ae2dB3hVVdb317zOO87nfJ8zjs68M+8odkcBG0VFsY4FwS4WVGwgFhhn1FFBVKSKIEWagEiR3nvvvUMIkJCQAiENQgghgYQU/t/z3+fe5Cbkpt127r3rPM8l5557yt6/ffiffdZeey0RXZSAElACSkAJKAEloASUgBJQAkpACSgBJaAElIASUAJKQAkoASWgBJSAElACSkAJKAEloASUgBJwQ+DSSy9Fw4YN9aMM9B7Qe0DvgRrcAyKS4UZWA7eZYq6LElACSkAJ1IyAiOwInHK7ubIKes0aUfdWAkpACZCACrreB0pACSiBECGggh4iDanVUAJKQAkEjaAXFBQgISEBUVFR+vGQATmSpy5KQAmEFoGgEXSKUEZGBs6dOxdaLeDn2pAfOZKnLkpACYQWgaARdPbMVcy9c/ORI3nqogSUQGgRCCpBDy30ga2NCnpg+evVlYAvCKig+4JqEJxTBT0IGkmLGF4EaE5e3RtIi6x1vVXQa40uuA9UQQ/u9tPShxgBivmKrkCXi4FlX9e6ciro1USXlZWFoUOHVnPv0t0ef/xx8NiaLm+88QamT59e08Oqvb8KerVR6Y5KwPcE2DOnmM/9J1BcXOvrqaBXE11iYiLq1at33t6FhYXnbfPGBhV0b1DUcyiBICCwrp8l5rPe80jMWdOgFPRv5u3Di8M3efXDc1a2vPTSS/jtb3+LW2+9FY0aNULTpk3x5JNP4vrrrzeHPf3002jQoAHq1q2LESNGlJzqyiuvNG6CfCDceOONaNu2rdnnkUcewZkzZ0r2K7/iKugrVqzAbbfdhvr16+Ott95Cfn6+2f3zzz/HTTfdhJtvvhmffPKJ2TZt2jTz4Lnllltw7733lj9tyXftoZeg0BUlEDgCm4ZYYj6jDVBc5HE5VNAdD4aqBN21h7569WpcdNFFZXy5MzMzTWNQpNmTP378uPnuKugXXHABdu/ebba/8MILGD9+vNsGdAp6Xl4eLr/8csTExJh9W7dujQEDBpjz33DDDSWunE6zDkU/OTnZ7OvcVtFFVNAroqLblIAfCWwdaYn51NZAkXfe9INS0P2IvORS5QX9gQceKPmNK126dAF7xfxcfPHF2Lx5s/ndVdCvu+66kmN69+6N7t27l3wvv+IU9IiIiDI9bfbWn332WdDUw2uxxz5z5kycPXvWnOLdd9/Fww8/jJEjR5Y8VMqfm99V0CuiotuUgJ8IbB9tifmkVkCR92Ztq6BXs/3KC3qLFi1KjmSP/Z577sHp06fNtvvvvx/cxsVV0F1t8H379jUPgZKTlFupStC5O00vCxcuNKL+4IMPlpxhy5Yt+Oqrr8y1nW8KJT86VlTQyxPR70rATwR2TQC6/B6Y0BIotMyn3rqyCno1SVIY69SpY/amWLsK+pw5c/DEE0+Y36Kjo3HhhRd6TdBpcrniiitw8OBBc34K/cCBA5GTk4OjR4+abSdPnsQf//hHsx4XF2f+8h/a+p0mnpKNjhUV9PJE9LsS8AOBPdMsMR/3NFCQ5/ULqqDXAGmrVq2MfZxC6Sro7Ck3a9bMDHpycNSbPXQWr6JB0dTUVDRu3NgMiNJuPnbsWFMTmmP4nW8DH374YYmNvXw1VdDLE9HvSsDHBPbNAr65BBjTAjhrvc17+4oq6N4mGiTnU0EPkobSYoYGgegFQNc/AqMeBfJzfFYnFXSfobX3iVXQ7d0+WroQIhCzFOh6KTDyISAv26cV81TQR4vIMRHZ5yabnHNzYxEpEpGWzg2V/a0oBV2oCtAHH3xgfNvp3+78jB492qeNzpOHKk+fg9MLKIGaEDi4Auj2J2D4vcCZms8Yr8mluK+ngn6fiDSoQtAvEJFVIrJIBb2mzeO7/VXQfcdWz6wEDIGEtUD3PwPD7gZOW/NUfE3GU0FnR/uqKgT93yLSXkTGqqD7ujmrf34V9Oqz0j2VQI0JHNoE9PgLMOQOIDejxofX9gBfC/rfRGStiPyXCnptm8g3x6mg+4arnlUJIGkb0PNvwKAGwKl0vwLxtaBPF5G7HPbyqnro7RyF2eH093YloQLkSsPzdeXpOUM9gxI4j0DKLqDXFcDAW4HslPN+9vUGXwt6oogccnxyHQOoz1Q2IMrfwmlQ1NcN7O78KujuyOh2JVBLAkxM8W0dYEB9ICuplifx7DBfC7qrdlfVQy/ZNxQE/Xe/+53blnENI+B2Jx//oILuY8B6+vAikL4f+O5qoN9NwInEgNXdU0GfLCJpIlIoIski0kZE3nN8SgTasaKC7mhmFfSA3e96YSXgfQLHYoA+1wF9bwCOl4be8P6Fqj6jp4JeXrS98r3KHvqiz4HRzb374TkrWRh7fMiQISV7MLoioyU+9NBDuP322810e8Z0cS7V7aEzVsubb75pjmfM81WrVplT7Nu3z0ztp286453HxsYiNzcXzZs3N1EWObV/ypQpzsvV+K/20GuMTA9QAucToIBTyPtcC1DYA7yooDsfDFUI+q5du3DfffeVNBcTSyQlJSE725r5lZGRgWuvvbYkdkp1Bf3777830RJ5Ygb2YiAuinyHDh0wYcIEcz2GxmWc9RkzZpgEGc5CMChXbRcV9NqS0+OUgIMATSv96gK9rwJocrHBEpyCHiBwzDiUkpICxii/++67UVBQgPbt25seNHvSzGiUlpZmSlddQX/mmWewcuXKkhoxE9KePXswceJEk9mIcdPZO+fCJBcMx/vZZ59h3bp1JcfUZkUFvTbU9Bgl4CDAQU8OfnIQNHWPbbCooNegKRhj/IcffkCnTp3M3zFjxuDFF180ws7TUGxpH+fiqaDzHAyFy+sxMYZT9JkZiZmO+LbQtWtXc63a/KOCXhtqeowSgOWOSLfEXpcDyTtthUQFvQbNQbt2kyZNTB5Rhq9lXHKaRrjQ9i0iNRb0fv364e233zbnYA+cPvgMxxsfH19ivmG+UKad49sBzTFc5s+fD4bqre2igl5bcnpcWBPgRKFBDYGe/wszgchmMFTQa9ggjDXuTD9Hu/ldd91lBjQ5sEmTTE176O4GRb/99ltjcqEp57HHHgN75kuWLCkx7zAm+/bt22tY+tLdVdBLWeiaEqgWAU7hH3KnNaX/0MZqHeLvnVTQ/U3cJtdTQbdJQ2gxgoMAg2sNu8cKthW/xrZlVkG3bdP4tmAq6L7lq2cPIQIMezv8PqDbZQDD4dp4UUH3YeNERkaWxDh3xjq/4447fHjF6p9aBb36rHTPMCbAhBRMTMEEFTFLbA9CBd32TeSbAqqg+4arnjWECDBV3M+PWanjouYHRcVU0IOimbxfSBV07zPVM4YQASZxZjLnb/4AMLlzkCwq6EHSUN4upgq6t4nq+UKGQEEeMO5poMvvgT1Tg6paKuhB1VzeK6wKuvdY6plCiEBhPjChJdDlYmDX+KCrmAp60DWZdwqsgu4djnqWECJQVABMamWJ+XbfJ2r3BTkVdF9QrWLqv48uWaPTqqDXCJfuHOoEigqBqa0tMd8yImhrq4Luo6arLJaLjy5Zo9OqoNcIl+4cygTYM5/+liXmGwcHdU2DUtB7b+2NNxe/6dUPz1nZ4s146Dk5OW7jqI8bN85M77/lllvw2muvmSKlp6eDURm5jZ+NGz2fdqyCXllr629hQ4DeLBNesMR8/YCgr7YKuuPBUJWgezMeemFhYYVx1Bn86/rrrwdjxHBh/BYujOjI4FxcioqK4EkcdHMSACroThL6N2wJ5J0Efm5mebNsGxUSGIJS0ANF3lvx0N3FUR80aBC++OKL86p32WWXmQiM5/3gwQYVdA/g6aHBTyDnGPBjU2vS0N4ZwV8fRw08FfTRInJMRPa5yT33qohEisheEdkkIre62a/M5ipT0AUIv7fiobuLo66CHqCG1cuGFwEmpxjUAOj+P0DsspCqu6eCfp+INKhE0O8WkUscav24iGwto9xuvthV0L0VD91dHHWnyeX48ePmJnOaXF566SU1uYTUfzutTMAIMO9nv5uAXlcAhzYFrBi+urCngk5JvqoSQXeVbAp7iusGd+t2FXQ2gjfioVcWR33s2LFgAmgOfr7xxhum3Tko+tRTT5lrM8jXpk2e34hqcvHVfyk9r20JpOwCvrvaSuicFmnbYnpSMH8K+n9EZJQ7EReRdo7C7GDWnvKLClB5Ip59V56e8dOjg4xAwjqg59+A/vWB43FBVvjqF9dfgv6giESLyKWVCHrJT3buoVcfrb33VEG3d/to6bxI4MAioNufgMGNgZPJXjyx/U7lD0G/RUTiReSGEsWuYiVUBF3jodvvhtcShRmBiCnAN5cAIx4Acq2xqVAm4GtBryMicSLCwdFqL6Ei6Ha+cbSHbufW0bJ5hcCW4daEIYbBzT/llVPa/SSeCvpkEUkTkUIRSRaRNiLynuNDAafNPEtEIhyfHdVRdRV03982Kui+Z6xXCBCBc+eA1b0tMWewLYbDDZPFU0Gvjj7XeB8VdN/ffSrovmesVwgAgeJiYNHnlpjPeg9g0K0wWlTQw6ixXauqgu5KQ9dDggDFe9a7lphT1CnuYbaooIdZgzurq4LuJKF/Q4IAzSqTXrbEfM13AM0uYbiooFez0bOysjB06NBq7l262+OPPw4ea7dFBd1uLaLlqTUBDnhy4JNZhoI4lnmt6+9yoAq6C4zKVhMTE80MzvL7MHJiMC4q6MHYalrm8wjQFXHE/ZZrYpDl/zyvLl7YEJSCntazJw691tqrH56zsoXxVH7729+CU+8bNWqEpk2b4sknnzThbnnc008/jQYNGqBu3boYMaI048mVV15pwuHygcBojW3btjX7PPLIIzhz5ozbS44cOdJchyEAnnvuOZw+fdrs6y42ekVx1N2eXMPnVoZGfwsWApwkNLgR0P3PACcP6QIVdMeDoSpBd+2hr169GhdddBESEhJKbiFnIC2KNGOxOANsuQr6BRdcgN27d5tjXnjhBYwf7z4JrfN47ty5c2cwEiOXimKjO4N6lY+jbg5w84/20N2A0c3BQYDT9/vXs6bzJ64PjjL7oZRBKeh+4HLeJcoL+gMPPFBmny5dupRkFLr44ouxefNm87uroF933XUlx/Tu3Rvdu3cv+V5+Zc2aNeYtgMHArrrqKrz77rtml4pio7sLu1v+nK7fVdBdaeh6UBFI3WMF2GKgrRSrgxRU5fdhYVXQqwm3vKC3aNGi5Ej22O+5554Ss8j9998PbuPiKujsuTuXvn37gg8BdwtFPCIiwvzM+OnOyIsq6O6I6fawIMCQtwx9268uwFC4upQhoIJeBof7LzSBOKNAUqxdBX3OnDl44oknzMHR0dG48MILPRb0Sy+9FEePHgWzGz388MMlgl5RbHSnycVppnGaf9zXRlPQVcZGf7MpgZilVlIKJqdgkgpdziOggn4eEvcbWrVqZezjHBR1FfT8/Hw0a9bMDHpycNQbPfRhw4YZU0vjxo3RoUOHEkF3Fxu9ojjq7muigl4ZG/3NhgQip1vp4pg2junjdKmQgAp6hVhCf6Pa0EO/jUOmhkzg3OX3wOjHASZ21sUtARV0t2hC+wcV9NBu35CoHWd7ru1rTRia+CJQ4N7NNyTq64VKqKB7AaInp/jggw+Mbzv9252f0aNHe3LKah2rgl4tTLpToAhQzJd2tsR8RlugqCBQJQmq6waVoJ8L0/gM3r6jyFEF3dtU9XxeI1BcBMxpb4n5gk/CMshWbVkGjaBzEg8nzqio17aprePIjxxdJ0V5dkY9Wgl4kUBhPjDlNUvMV/YI2yBbtSUaNIJO9z2KEHuW+vGMATmSpy5KwFYE8nOAcU9ZYr6p5oHwbFWXABUmaAQ9QHz0skpACfiDwOlMYORDwDd/AHZN8McVQ/IaKugh2axaKSUQRASyU4GhdwHdLgOi5gdRwe1XVE8FfbSIHBORfW7yzP1KRAY5EkVHikgDN/uV2VxRCjr7odMSKQEl4DGBzHhgwM1Az/8F4td4fLpwP4Gngn6fQ6TdCXpzEVksIhT2u0RkaxnldvNFBT3cb0utf1gQOLgC6H2l9TmyIyyq7OtKeirolOSrKumhjxCRVi66HSMif3X5XuGqCrqvm13PrwQCSIDux+v7W/byoU0A9tJ18QoBXwv6AhFp6qLaK0Wkkct319V2jsLscAbB8koN9SRKQAnYhwA9Waa2tjxZpr0JnM21T9nclISuvucKC1Gcl4einBwUnjiBAgbOS0nB2cOHkR8fj7wDMTizdx/O7N6N09u3I3fzZuSsW49TK1che+lSZC9ciJNz5yJrxkycmDIVmeMn4PiYMTj+00/I+PFHHBs0GEf7D0D6d32Qs6b2pic7CXqJuGsP3c2dpZuVQDATYFKKIXdaPfMNP1TpY26EtKAARTm5KMzMREFqKs4mJiLvwAGc2bMHp7dtQ876DTi1ciWyFy1C1qzZODF5CjLHjUPGyJE4NngIjn7fD0xek/p1F6R83hHJH32EpA/a43CbtibjWcILLyL+qacR91gzHHzwIcTeex9imtyNA43vQPRttyOq/s2I+vuN/vnUrYfoW2/DsR9+qHUr+1rQ1eRS66bRA5WAvQlQcIvPnrV6rCkpyD940Aht7uYtpmd6cv4CnJg2DZljxyKj28c4+vw1SHvmOqS0fxNH/vVvHH7nHRx69TUkPPc84p94AgcfeRSx992PmDvvQvTtDRB1U12PhTS6/s040LARYu6+xwh2XLPHEf/0M0h48UUj6BR2CjyFPuWzz5HSuTNSu3RBWvceSP+2t3kgUGCPDR2KjBEjcfzn0cj8ZTxOTJ6MrOnTkTV7NljP7MVLzIMlZ+1a5G7ciNytW3F65y6cidyLvOhow4YPo7NHklGQnm4eUEXZ2Sg+fRrnzp712oRJXwt6i3KDottKuuGVrGgP3d7/kbV0wUfgXHGxMRdQTGgiOBMZiRLhXeAivD/+aPVqu3VHSqcvygrvs8+ZnixF90CjxoiqV79Gghtd90bENG6M2AceRFzzFkho+QIOtX4dh9u1w5F/fojk/3xqBDWtW3djejg6cKAxRxgRnTDBCOjJefONCYNmCZo1jGju22cJZlKSMYUUnTxpzCOsc7gtngr6ZBFJE5FCEUkWkTYi8p7jQ8mmd8tQEYkXkb2V2M/LyLsKerjdhlrf8gRM7zc31whUfkKCsc/mbtlq9XznzTemBQodba/sSaZ++RWSP/oYSe3eNb3e+GefxcFHH0VM06ZWb7cmZoN69XHgjjsRe/8DiHu8ORKeb2l6szy36cl27oy0Hj2NzTdj+AhkjvsFWTNmGLPHqdWrTe+U9uT8qAgUDH8ORZ1+j3PT2mq0xPKN7IPvngp6GSH21hcVdB+0tJ7SbwQoxkWnTuHskSOWEG/caMSOr+kZPw43vU/adJM/+Q+S3nvf9FJpdqAdN7bpvThAc8ONN1W790vzBIWbAk4hpxnDEt+PjdBT8Cn8x0f9bB4E7OVysI49dJoE8uPijH2aPVu+/ntlOXYAGNQQ+OYSYMvwKu3lXrmmngQq6HoTKAE3BChuhRkZRvBO79xpRJA2U9qEaVelaYCifLjtO+DgWtyjjxn7b1W23+hbbrVsuo88ivhnnkXiq68as4Oz95veq5c5//FRo4yt9uS8ecY+awlwpDGZ0HRCj4tzRUVuSh/AzVHzrIlCfa4FEtcHsCDhd2kV9PBr87CqcYnpIjkZefv3I3fTJmQvXmxcxzjIld6nD1K//BJHOvzT9JTp8UAbrxmUq8xMceNNxizBgTyaJA6/3caYPNK6dsXRAQNwfPQYZM2cZYSYbmz5sbHGfFKcnx+6/Bn2dkU3yyVx5IPAyeTQratNa6aCbtOG0WKdT4BiyJ4pfX5pT85eshQnpk413gcU5pQvvkBS+/amx0uvCWM/rsLtjF4QNHPEtWiBxFdeRdL7HyClYyek9/oWGcOGIXPiRJxcsMD4FHMgkX7HRVlZ9uwZn4/Mf1vOnADGP2+JOWOZF+T579p6pRICKuglKHTFXwTOFRSUmjJ27MCpFSvMhAvaeI/264/Ur77GkQ//hUOvv2F8hDk4R//cyvyBo2++xfgQxz/xpBnAO9Khg+l5H+3b10zeoPscJ3jQnYwPhIK0NBSfOeM1dzF/sbPlddL3AQNvBbpeCmz/We3lAWwkFfQAwg+lS7P3zEFAupGx50xfXYoze7v09U149jkcfOgfONCgYaXCTFc4+gzTrS2x1SulPebe35kBRU4coc8vXdbo38vJJirMAbyT9s4AevwF6HsDkLQ1gAXRS5OACrreB5USKM7NNbPz2LOl6YHTlWneSP70Uxx6800jvJxVV2HvuV594/pGf2N6XaR89hnMgN/QoaWmjA0bjCcIJ1yYQT5NM1hpe9jmx6LC0pyfox4BTqXZpmjhXBAV9DBsfeNWl51tJmNwkJAxJuhRQbsxfZnp9kaPDeM+V8HAIM0b7G0nvvSyGUyktwfd8RinImfdOtNz5lTtcJzYERa3U+5xYOyTlr18wcdAoZdcHcMCnm8rqYLuW75+PztFlAOHp3fsMELNiR+cxsyZeIkvt8LBfzwMus1V1KNm7Ar6MtON7si//21iYDB40Mk5c8x0ZnpqmAFB7UX7vV1tc8GU3UD/+kC3PwG7xtumWFoQi4AKepDdCexd0zeaUd1oAqFgcxDx8Ftvm141vTbKizWnaXPGHwcZ6Ted3vs741bHGBT0FsmPT1BzR5DdBwEpbsRkoPufgX43AckavzwgbVDFRVXQqwDk75+NYJ84YezKHPyj5wd9mxnvggOFFXl7xNzVxMTFYMAjenWcmDTJmD4o1Bww1EUJeESgqABY9JllYhndHMg55tHp9GDfEVBB9x1bt2fm4B89NOiux1mHjItB/+f4J5+q0AuEg46cUUhXPNq56UFyatUq5MXEgIOWuigBnxHIOQqMftwS88UdAYq7LrYloILug6bhdGyGEmWgIgayp4mDMxHpusegR+VNIpyVSP/ppHffM/ZuzjLMXrYMeVFRYIhNXZRAQAgwLdz3NwLd/wfYMzUgRdCL1oyACnrNeFW6N32xOXORHiKuok2vEMZhZswPxlrmQCOnn3PmIbOf0MyiixKwFYGd44BulwED6gOpe2xVNC2MewIq6O7ZVPsXRtZjXBBONaeQM3Ieg9+f3rXLxO9Q971qo9QdA02gMB+Y9y/LxDLuKeB0ZqBLpNevAQEV9BrAKr9rQfpRM8nGOfuRAZro16097vKk9HtQEMhOBX562BLzZV8DDLalS1ARCFtBLyouwumC08jMy0RqTioSTiYgOjMau4/uxpbULVh7ZC2WJi7FvLh5mBYzDeP3j8dPkT9hyO4hGD73Kyx6pwX21q2LfTfeiHmvPoAvR7+CNxe/iVYLWuHZuc/iydlP4rm5z+Gl+S/htYWv4a0lb+Gdpe/ggxUf4F+r/oX/rPkPOq3rhK83fo3um7uj99be+H779/hh5w8YtnuYudbYfWMxIWoCph6Yilmxs0xZFicuxorDK0z5NqVswva07Yg4FoH9x/cj9kSsqceRU0eQnptu6pZbkIvic+GXuSWo/hfaobCHNwN9rwd6/BXYO9MOJdIy1IJASAk6xfiTNZ+gw4oOaLu0LVovao0X5r2Ap2Y/hcdmPIb7p9yPuybehdt+uQ31x9av8efZnvUw9smbsO/vNyKi3o0Y3roBXv3pYTwz5xm8PP9lvLH4Dby77F18uPJDfLz6Y/P3/eXvm7Lwt1cWvoIX579oBP+JWU+YMj007SHcN+U+NJnYBI3GN8Kt426tcbmqUxeem9chB5aXZWmztA3+ufKf+GztZ/hm0zfos60PBu8ajJ/3/oxJ0ZMw5+AcLDu0DOuT12Nn+k5EHY/CoexDOHb6GHLO5oAPRV2CnADHb7aOBLr+0Qqwlb4/yCsU3sUPKUGn8FAon5/7vBGst5e8DQrqR6s/Qsd1HY1osSc8YMcADIsYhtF7R2Ni1ETMjJ2JBfELsOLQCiNe29K2IfJYJGJOxODQyUNIWjwbca+0MvbxA3fcYZIPcGq7rxb2qM8WnQV711l5WUZAU3JSjJgePHHQCCvLR5Hl2wTrverwKvNGwXrMPjjbvFVQlFnHobuHmt5/t03dzFsB3xD4tsA3B75FPD7zcfOwu2PCHTV+mDQc3xD3Tr639EGx4BW0WdIGHVZ2wKdrP0WXjV3w3bbvzJvHyD0j8cv+X0zZ+ObDh8W6I+tA3nsz9oJ1SzqVhIwzGeaBUVhc6CvEel4SYIjb2R9YJpYJLQGGwNUlqAl4Q9CbiUiMiMSJSMcK0tDVEZHVIrJbRCJFpHkF+5TZZIcUdAzxyinvdCfkQCeTHtBnPNT9vvkwoSnq+JnjRlz5UOObD807NPXMj59vTEA0B/Gh2G97P2My+mL9F+bByTcUvhm1nNcSzWc2x4NTH8SdE+/ELeNuqfHDgm8efJvi28sDUx9AsxnNzNsFzVo0Yb23/D1zTZquum7qWvLgGLFnBMbtG2fK6Xxw0ITGB8eeY3twIPOAMU3R1MZ68m2joLggvMY+MuOBEfdbYr6yBxCGCZWDWrndFN5TQb/AkQD6GhH5jYjsEZG6ZdRZZKSIvO/Yxt8Olfv9vK+BFHQKNoWbAk4hp6BT2CnwutSeAAeKC4oKkH02G0dPH0VSdpJ5A6LAbk3dasYEliQuMWYejhnwgTE8YjgG7hxoxhfY0+db1r9X/RvvLn/XmLc4PvH07KdLzGmePDj48OBDp/GExrhn8j2gKYxvLjRP0Uz2+qLXjems/Yr2xpzGhwjL1GtLL/Tb0c+MrXCMhW8gLD/fkhYlLMLKwyuxIXmDeZjwrYoPk8STiUjLTTNvX2cKz/h3jOPsaYACzlgsvS4HoubXvlH1SNsR8FTQm4jIUhdF7iQi/LguI0Tkc8cG7r/J9ceK1gMh6DShME9kjGPiDwNUcWKQeqzY7p6ttECVPTicg93LDy03JjYONLoDe5EAAB8MSURBVNMsxYcHe/WDdg1C32190WNzDzNY/fm6z80DhGY7mpFoonIdk+HbR5NJTUCzU3XGMSrbh+dwPkhazGphTGEc53A1GzrfRGg25OA5H3gs+5ToKeZByAHzNUlrsDl1s3mr4iA/B/v58DhxJhNn9s5EMQNrdbkYmNEGoFeLLiFFwFNBbykio1xEubWIDHH5ztW/isheEUkWkSwRaVjud+fXdo7C7KhTp47fIJ9NSkJa124lMVKYwoz+47oogZoQ4IOE4x58A+EYQHJOMuJPxpvxDpqs+BbC8QI+TGi24rgNPZg4AM0xDvbye27paR4kHHvgwHq7Ze3MmwHfEMq/iXgyeN7wl9tx96S7zVsIHx4cc3p14avmDcSMfaz5FF9t+Mq8ffTf0d+Y1sbsHYPJ0ZPNg4NvUjRhsU58w6J3lY591ORu8d2+/hD0j0XkE4dqs4ceJSL/5VTxiv76o4fOhMGM/W0ytNe/2eSjzI+P9x1pPbMS8DIB2v1p/+cDhK6qHFTel7HPuLLSzLMibgEWzGuDGf2uwIQfrsGoBW0xdOcgM+7Bh8eXG77Ep2s+NQPY9ArjGwjFnSJPkxNF//Zfbq/V2weP49vLQ1MfMmMpHHznQ4OeVfRCo9sur89y0F2XpjU+2PimxIF8mq749jQ9ZroxX/EhyAeJ02V3Y8pGY8biw5ID6jRlxWXFGccBOhDQrEeX5FNnT4FmLQ6wh8PbtqeCXh2Ty34RucJFuBNE5M8u389b9ZWgs0GZuowTgGgf54QgZt/hBCFdlEDIEKAr4v45QL+6lnllZjvgVHqtq0cxpMeV64OD4wEcZHbO15gbN9eYfmgC+jHiR+NJ9u3Wb0veOOgeS88q54A5vdH+Me0fxsxEl9rbxtXOlbgyM1ZFv3GQneMkfNjQjZcPLrrysjx0b+aYCeeR8MFG8xrfjuiS/MqCV8wDieXneArnnNAcxgcU60VnAA7S0zzHcRa+6fAti2M+9LKjOzUfnnQR5lgQnQg6r+9s3oQ4FkO3YXqhcU4KH1q1XTwV9F+LCAX6apdB0XrlFHqxiLzp2HaTiKSKyK/K7VPmq7cFncGyGDsl4fmWRshj7mlqpupr4Kva3jZ6nG0JHIsBxj1tCfmwu4FDm2xb1PIFc45/0MvqZP5J44FE+z/fPjiQTNMO50I4XXZp8uGbCMcN6HK8OGGxmXzHsREOTNMlmQ+YUZGjzHgD51jQZZnjJBzMpoDStMSxCb4xUHgpwHTr5QOIbxKcCEihpmBTuCngFHIKOoWdAs83Dwo+hZ8PAD4I6OXFtxI+IGgu40RDPjTo+UVvLT5EHpn+iHmo8S2GXlx8wNAFmA/E2i6eCjqFmG6IsQ5vl84OZe4mIk851unZstHhARMhIo+WUe8KvnhL0E2wrMlTTBYe9sgZNIvBs7hdFyUQUgTyc4BlXwFdLwV6XQFsGQ4w76cuYUXAG4JegSR7tslTQWfPmzkumT2eQs4kxcxEz566LkogpAjQvLJ3hhXmlt4rs98HGMNcl7AkEFKCzlyajD3uTG58uE1b5G7eEhaDIWF594Z7pY9GA2OfsMwrPzYFkraGO5Gwr39ICTpTtkXVrWfyZjIjkC5KICQJ5J8ClnxhxV/59gorFovG1QnJpq5ppUJK0GlSOXskuaYMdH8lEBwEaF7ZMw3oe4PVK5/bAcjNCI6yayn9QiCkBN0vxPQiSiAQBBgFkQmaaSdnDBamh9NFCZQjoIJeDoh+VQK2IpB3EmBy5m8uAXpfCWwfrYknbNVA9iqMCrq92kNLowQsAjSvREwG+lwHdPk9TFo4TQend0cVBFTQqwCkPysBvxNIiwR+fswyr4x8EEje6fci6AWDk4AKenC2m5Y6FAmcyQIWfgp88wfgu6uBneM0TnkotrMP66SC7kO4emolUC0CTC6xawLQ51pLzBd8DKh5pVrodKeyBFTQy/LQb0rAvwRSdgM/PWyZV/g3NcK/19erhRQBFfSQak6tTNAQYA+cPXFjXrnG6qFrGrigaT67FlQF3a4to+UKTQKc0bljrGUjp5jTZk7buS5KwAsEVNC9AFFPoQSqJMDe977ZwODGlnmFXiz0ZtFFCXiRgAq6F2HqqZTAeQToT35gEfDjPZaQD24E7J0JcLsuSsDLBFTQvQxUT6cEDAEKdtxKgH7knK4/8FYgYorO8tTbw6cEVNB9ildPHpYEEjcAox+3hJxp4GgzLyoISxRaaf8SUEH3L2+9WigTOLK9NP1b3+utsLaFmh0rlJvcbnXzhqA3E5EYEYkTkY5uchW9KCJRIsKE0ZPc7FOy2dOMRXaDrOUJcQL0HZ/4otUj5wzPjYOAs6dDvNJaPTsS8FTQL3DkEr3GJUk0c4i6LteLyG4RucSx8c+uP1a0roJux1tFy3QeAWYMmtraEnImmljbF2DyCV2UQIAIeCroTURkqYsodxIRflyXPiLS1nVDVesq6AG6G/Sy1SNwPA6Y0daKgtjzf4GVPdSXvHrkdC8fE/BU0FuKyCgXgW4tIkNcvnN1johQ1DeKyBYRoYmm0kUF3cetrqevHYGsw8Cc9lZs8u7/Ayz7Csg9Xrtz6VFKwAcE/CHoC0Rktoj8t4hcLSJHROQPFSh6O0dhdtSpU8cHVdVTKoFaEshOtabpd70U6HYZsOgz4FR6LU+mhykB3xHwVNCrY3IZLiJvuQj4ShFp7PL9vFXtofuuwfXMNSCQc8xKxtz9z1ZC5nn/Ak4eqcEJdFcl4F8Cngr6r0UkwdHz/o2I7BGReuUUmiaWcY5tlzl66JeW26fMVxV0/94EerVyBBg4a/k3QI+/WsGzZr0HZCaU20m/KgH7EfBU0CnEzUUk1uHt0tmhzN1E5CnH+q9EpL/DbXGviLxcRr0r+KKCbr8bJSxKlJcNrO4N9Lrc8lyZ/haQERsWVddKhgYBbwh6BZLs2SYV9NC4uYKmFmdzgfX9rSTMnKY/+RUgfV/QFF8LqgScBFTQnST0b/gRKMgDNg+zMgVRyMc/r/k7w+8uCKkaq6CHVHNqZapFoPAssG0U8P2Nlmll7BPA4S3VOlR3UgJ2JqCCbufW0bJ5l0BRoZUZaEB9S8hHPQLEr/HuNfRsSiCABFTQAwhfL+0HAgxjy7ydK7oCA2+xhHz4fUDsMo1J7gf8egn/EggpQY87loNWIzfjyAkNjOTf28hmV2N2oKRtlg/5gJstEf/mEoCmlah5KuQ2ay4tjvcIhJSgr4/NQP2vl+C2rkuxLvaY9yjpmexPgLk6E9dbOTqdtnHO7ORA585xOkXf/i2oJfQCgZASdPJIyMjFo/3X4uqOCzBk1UEUF2uqLy/cJ/Y8BZNGHFwBzPuw1FOFszontQIiJmvALHu2mpbKhwRCTtDJ6vTZQnSYtAtXfr4AbcdtR3aeZovx4T3k31MzYcSBxcDs94Fv61jmFM7onPaGlaszP8e/5dGrKQEbEQhJQSffc+fO4ef1Cbi200I80Hc1DqRpnGob3Xc1KwqTReyfA0x/G+j5N0vEe10BzGwHRC8ACs7U7Hy6txIIUQIhK+jO9tqakIlGPZbjxi8XY25EinOz/rU7AU7Dj5wOTHkNYKhaTvzpfZUVvpYeKvQl10UJKIEyBEJe0Fnbo9l5eH7YRmOC6TpvPwqKistA0C82IcCgWLsmWOncGKaWIs7cnAs+tvzF6UeuixJQAm4JhIWgs/YU8S5z9xlRf+HHTTh6Ks8tFP3BjwRyjgLbf7aSK3f9oyXi/esBizsChzcDdEHURQkogWoRCBtBd9KYszvZmF8a91iO7YmZzs36158EslOALcOB0c2t8LTsif9wG7DsayB5h/qJ+7Mt9FohRSDsBJ2tF52Wjfv7rDIDpmM2JJgB1JBqVTtW5kQisOEH4Kd/WL1wiviQO4FVPYG0vSridmwzLVPQEQhLQWcrnTxTgDZjtxkTzL8m7zKujkHXenYtMKfbM5Hy7kkAs/wMvatUxH9sCqztAxyLsWvptVxKIGgJhK2gs8U46Wjwylhc1XEBHhuwFokZuUHbkAEtON0KEzcA6/oBE18Cvru6VMDpXvjLs1bvXLP+BLSZ9OKhTyCsBd3ZvGtijuHWrktRv8sSLN+vyX+dXCr8y953VpLlUshkySPut/Jt0oTCz6CGwOwPgB1jgKNROqhZIUTdqAR8Q0AF3cE1KfM0WgxaZ0ww3y89gCINGWCR4cxMBrraNASY2hr4/u+lve8efwHGtLAiGcYsAeh2qIsSUAIBI+ANQWcS6BgRiRORjpUkn3teRCAijSrZx/wUqBR0eQVF+M+0CCPqrX/eihO5YTh55VS6FZFwaWeA8cK7/alUwBm5cEYbYOtIIDUCUL/wgP3H1QsrgYoIeCroFziSQ18jIr8RkT0iUrcCwf5/IrJORLbYWdAJiCEDJm09jOu/WIR7eq/E3uSTFXELjW0UZAozBXpGW8AZapamE07soaBT2PfPBU6lhUadtRZKIIQJeCroTURkqYuAdxIRfsovA0WkhYissbugO9t6d1IWmvRages7L8LU7UnOzcH9lyYRmkZWdLNMJQxq5bR9973BMqlsHGyZWGhq0UUJKIGgIuCpoLcUkVEu6t1aRIa4fOdqAxGZ6dhWmaC3cxRmR506dWwB8XhOPl75abMxwXSaFYn8wiJblKvKQjBYFf2+k7YCO8Zag5SDG5WKN5M9MGvPwk+twc2sw+oHXiVU3UEJ2J+ArwX9vxy98quqIeglz4FA2dAraq7ComL0XhxtRP2pIRuQkhWgyH6cAp9zzJqEwxjg9PFe39+aIj/9LWvWJT1M6Cbo7HU7/zKoFd0J131vJYE4q+6ZFbW1blMCwU7AU0GvyuTyexE5LiKHHJ98EUmtyuxSa0GPWwUMv9cSt4kvWuFWmfxgyRfA6t6WpwZ7rHtnADFLgUObgLRIgP7RuRlAQZ7bnurivWmo9/US3N5tGTYezPBeu9OHOzPeilvCELFbRlgmkTntgQkvWPWhZwl71U6Bdv3b83+BH24Hfm4GTH3d6nVTuHeNt/JmcoIPXQ11UQJKIOQJeCrovxaRBBG52mVQtF5JV/v8lcpMLiV711rQD220RJDi9uM9wMBbrUw2zvCrrkLobp1py3pfCfSvb81w/Olh4JdnjH05e/I7mNnzVQzu/Do2j/sS57b+BERMsWJyM3s845BwBmR2KkBvkdQ9QOxyK4IgRZZ+20zEwPJRhJ2xvcuXheJNEefDaUJLYM4HlshT7PfNth5EfAhoMoeQ/w+qFVQCNSHgqaBThJuLSKzD26WzQ5W7ichTJQpduuJbQa+s5vToOHPCmhTDCS/0rY5baXlwMGQrg0Wt7Qss7wIs+ASY9S4w+RVg7JPAyAeBwY2BfjfhXK/LUdzlDxX3lssLc/nvvS63Jt4wKNW0Ny1zCc0muycCB5db5hSaVZgfUxcloASUQA0JeEPQS+XaS2u17qHXsPK13f1ccTHGrN6HOzpNxGt9JuLw3o2WbZqp0fZMs8LB0hWQ7n4cmOQAJU0ruigBJaAEfEhABd0DuJvjj6Nh92W46avFWLAn1YMz6aFKQAkoAc8JqKB7yDDtZB6eHbrBeMH0WLAf9IrRRQkoASUQCAIq6F6gfrawGF/N2WtE/aURm3DslE7K8QJWPYUSUAI1JKCCXkNgle0+c+cR/P3LRbiz5wrQHMMwArooASWgBPxFQAXdy6T3p2Tj3u9Wmd4609wxecbUbUlgNEddlIASUAK+JKCC7gO62XkFJsDXPyftQsPuy424X/n5AhPs69PpEZi9Kxnp2Zqk2gfo9ZRKIKwJqKD7uPlpdolNP4WxGxPR7pftuOWbpSUC/9D3q/Hl7L1YFJkanqF6fcxeT68Ewo2ACrqfW5yJMxiSd8TaOLwxeqtxeWTvnWnwHh+4Dt3n78fK6HScyivwc8n0ckpACQQ7ARX0ALdgQVExdhzKxKAVsXh5xGYTrpcCf02nhXhm6Ab0WRKNDQczwOQbuigBJaAEKiOggl4ZnQD8RuHeGJcBpsF7bthGI+wUeCbceHH4JgxcHottiZmgq6QuSkAJKAFXAirorjRsuJ6TX4hVB46i58Iok/OUphkK/I1fLgbT5P24Jg57jmRpDlQbtp0WSQn4m4AKur+Je3i9rNNnwVC+X8/Zi4f7rSkZYK3fZQnajtuO0RsScCDtlPrAe8hZD1cCwUhABT0YW82lzEdP5WHO7mR8PmNPif87e/CMMdN+4k78sinR9ODVROMCTVeVQIgSUEEPsYblBCbmQP1oym7c0bPUB542eGZcYs+eM1oPHs1BcbHOZA2x5tfqhDkBFfQQvgHoA3/kxGkTCbLXwigzqMrIkOzB81P/6yUmZypT7NGMw0BjuigBJRC8BFTQg7ftalVy+sHHpJ8yvfgvZkWagdZrOy0sEXmGK6Atfsiqg1gfm4GTZ9Qfvlag9SAlEAACKugBgG63S9JVcufhE2ZA9d9TduPBvqtLBJ49eX7ndg64cj/1ibdbC2p5lIBFQAVd74QKCZw8XWB66Oyps8fOnrvTVMMefYtB68AePu319Kphz18XJaAEAkvAG4LeTERiRCRORDpWkIXuYxGJEpFIEVkpIldWsE+ZTXZPQRfYJgvc1Wljp62dNvdXftpsbPBOkadtnhOf6C/P7E203Wv44MC1lV45PAl4KugXOJJDXyMivxGRPSJSt4w6izwoIhc5tr0vIlPL/X7eVxX04LgZ6SVDbxl6zdB7hl409KZxijxdJ98as83Mbl22Px2Hj59Wz5rgaFotZZAS8FTQm4jIUhdF7iQi/LhbbheRje5+dG5XQQ/SuwlAfmGR8Xun//vHUyPM5Cfn7FYKPWe4Pjl4vflt+Jo4Mws2OeuM9uaDt8m15DYi4KmgtxSRUU4hFpHWIjLE5Xv5Vf72ZfmNju/tHIXZUadOHRsh0qJ4SoCRI3ccOoHJWw/jm3n78OpPW8rY5Cn09b5eYoKRfTZ9D35aF491scdMzHg123hKX48PJwL+FPTXRGSLiFzoRtBLNmsPPTxuQYYx2JqQifGbD5mcrMzHenu3ZSUmGwr9zV2WoOWPG9FpViTGbEgwgcsycjRna3jcIVrLmhLwVNCra3J5WESiReTPJapdyYoKek2bMbT2p2Az4iSTglDIKeiuiUEo9BR+PgCYnPuXzYfMg4EPCF2UQDgT8FTQfy0iCSJytcugaL1yWk27ebyIXF9uu9uvKujhfEtWXHeaXpi2j6aYUesTQNMM48XTVEOBd34a9VhuTDo07UzaetiYepgSUBclEA4EPBV0inJzEYl1iHZnh0p3E5GnHOsrROSoiEQ4PvPcKrnjBxX0cLj1vFNHCj0HVRlimFmgOBDLQVcOvjpFnn/v6rUCr/+8FV3n7Tcmno0HM0yoA7XRe6cd9Cz2IOANQa9Kn2v8uwq6PW6OYC4FXSrpJrl8fzqGrj5oZroyxV95oa/71WIzSYoJvfsvizGRK5kiMDe/MJirr2UPUwIq6GHa8OFabQp9StYZMwuWrpVd5u4ziULu6b3S5HV17dUzWiXTAnJGLM08q6KP4tDxXJ0VG643TxDUWwU9CBpJi+gfAoxRwzAGiyJTTXCyj6buNnb68gOynDzF5CLvjNuObxdFm/AHzAubmauDsv5pKb2KOwIq6O7I6HYl4CBAO/vxnHyTy3XqtiT0WhRl4ts89P1qXPdFaaRK9u5v7boUzw7dgE+mRZiHwuK9qSa6JSdc6aIEfE1ABd3XhPX8IU2gsKgYiRm5WBmdbiZEdZwZadwpXYOZUeiv7rgATb9baQZmaeb5eX0Clu5Lw76UkxqiOKTvEP9WTgXdv7z1amFEgDNkmcCbKQL7LYsxKQE5MOuaZMRps2dO2GYD15meP10uabNfsi8NHKBl5Ev1xgmjG8eDqqqgewBPD1UCtSFAcaa9nWK/MDLVuFtyghQDmT3af23Fgv/1Ejw2YC3ajN1uBnIZHoHmHAo+J1Sp4NemJULvGBX00GtTrVGQE6A4n8g9i8gjJ80A7ci18UbE24zdZkSdrpbOnr3zLydYWYK/zezLYzi4y3PwXCr4QX5TVLP4KujVBKW7KQG7EKA4s1fO3jnj07O3Trs8e+8UdeaKdQq98y8fAuz9vz1mmwmXwElYjFtP7xzGrj9bWGyX6mk5PCCggu4BPD1UCdiVAHPBcsCVdnja42mXZ+Yp2vAZ8Mwp9K5/Gb+ev9P0w8HdgctjTYRMzsKNSs3Wnr5dG9ulXCroLjB0VQmECwEKPkWaYj1l22Ej3hRxijlFneLuKvbO9es7LzLeOgyY1n7iTnSfvx8078yNSDEB0jg7V3POBu4uUkEPHHu9shKwNQGaYWiOoVmGg7d0tey1MAofTt5l0g0+0Hf1eaEUnMJPf3yafxg/h4HU+i09gAlbDmFFVLoxFR07la/Zq3zQ+iroPoCqp1QC4UKA9nz29mPST5lImNO2J2Hwylh0nh1pbPoMlEaffNesVU7R56Ssu79diaeHbAAHfD+dHmHy1XJMYNauI1gTc8yIf+rJMyYTVrgw9aSeKuie0NNjlYASqBYBTsCiMO9OyjIDuYx1z2TjH03ZjddGbTFmHsbOKT/z1in+/MvB3vv6rDIzcTkA/PmMPfhucbQZI5i9KxlrY46ZcQMmMw/XQV4V9GrdjrqTElAC/iDg7PEnZORie2KmGdSduOWw6fXTk4dRMZnCkOYc9vyv7VQ29EKZB0CXJaBZ6LlhG03cnY4z96DPkmhjOuJkr/WxGdifko2j2XkoKAoNLx8VdH/cpXoNJaAEfELAPABOFyDuWI6JtcPJVrTV/7Ai1rhydpi0C61GbjYPgIbdl+Oayh4AXy8xJiDO2H1x+CbjFcT4+vQQYmhljiFM33HEhGzYHH/cPAwYi58zghnF0w6LCrodWkHLoASUgF8IUHg50erg0RxsiT9uJl8xhSFdNCncFHC6d74wfJN5CNDGX5Ffv+ubANcZq4dRORmvp/kP68xD5N1fdphxAXoC8QHDnLgcG+DA8LbETBPZk2Yoxt7ng8kbiwq6NyjqOZSAEghpAkXF1mQuumVyQhczXvFtgNE36bb5/dID+HrOXpNIhZO36Nb5SP81uLPnigpDOZR/INB0xDy59/dZZSaK1RamCnptyelxSkAJKIFqEqCNnvF7GJkzIinLeARxpi7z3g5fE2ds+/QM4hgBB3hru3hD0JuJSIyIxIlIxwryzV0oIlMdv28Vkasq2KfMJk1BV9vm1OOUgBIIZwKeCvoFjuTQ14jIb0Rkj4jULaPOIh+IyHDHtpcd4l5ul7JfVdDD+ZbUuisBJVBbAp4KehMRWeoix51EhB/Xhb9zPy6/FpHjIvIrx/cK/6ig17Y59TgloATCmYCngt5SREa5qHJrERni8p2r+0Tkcpdt8SJymct352o7R2F21KlTJ5zbROuuBJSAEqgVATsJulPYRXvotWpLPUgJKIEwJ+CpoKvJJcxvIK2+ElAC9iHgqaDTJp4gIle7DIrWK+lqWyvtyw2KTiv3+3lftYdunxtES6IElEDwEPBU0CnGzUUk1uHt0tmhzt1E5CnH+m9FZLrDbXGbiNAjptJFBT14biAtqRJQAvYh4A1Br1Sca/OjCrp9bhAtiRJQAsFDwJaCLiIZjoLtqMXfQ7U4pjbXCZZjlIeIa1spj1IeyqKUBe+RUOBB7QyphQ2jSykB5VHKgmvKo5SHsihlofdGWRa2+aY3admmUB7KoyyB0m96b5Sy4JryKMvDFt+0Uco2g/JQHmUJlH7Te6OUBdeUR1ketvjGGae6lBJQHqUsuKY8Snkoi1IWem+UZaHflIASUAJKQAkoASWgBJSAElACSkAJKAEloARCk0BVyTZCs9YV1+oKEVktIlEisl9E/lXxbmG1lfH7d4vIgrCqdcWV/YOIzBCRAyIS7RLiuuK9Q3vrR47/I4wMO1lEOLtdlwATqE6yjQAX0a+X/6uINHBc8f85wjOUTz7i1wLZ4GIfi8gkFXTTEuNEpK2jTZichgIfjsvfRCRRRP6Po/KMNfVmOIKwW52rE/nRbmX2Z3nmisgj/rygza7FmPwrReQhFXT5vUPEKk00Y7P281VxKOhHROSPjgQ8fHt71FcX0/NWn0B1km1U/2yhtSfzuCaJyMWhVa0a1YbmhYYi8oAKutwmIgyUN9ZhgmKSmt/ViGZo7UxzZK4j5MjE0Kpa8NZGBb3itvu/IrJTRJ6r+Oew2PqEiAxz1FQFXaSRiBSJyJ0OJj+ISPewuBPOr+QlIrJKRP4kIv8tInNE5LXzd9Mt/iagJpfzifMGZU5X2o7DeflWRJIdwZfSReSMiEwIYyB/cbBwIrhXRBY6v4TZ3xdE5GeXOr/u8vB32ayr/iZQnWQb/i5TIK9H++gvIjIwkIWw4bW1h241ynoR+bujfb4Rkb42bCt/FIlvKfQCu8iRvJ6Dxf/0x4X1GlUTqCjZRtVHheYeTUUEIhIpIhGOD/mE+6KCbt0BtKMzdgnvD5oZaHoI16Wrw32TbovjReTCcAWh9VYCSkAJKAEloASUgBJQAkpACSgBJaAElIASUAJKQAkoASWgBJSAElACSkAJKAEloASUgBJQAkpACSgBJaAElIASUAJKQAkoASXgJPD/ATWCTQzGnXC3AAAAAElFTkSuQmCC)\n",
        "\n"
      ]
    }
  ]
}